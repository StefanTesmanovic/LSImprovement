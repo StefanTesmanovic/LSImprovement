{
  "nbformat": 4,
  "nbformat_minor": 0,
  "metadata": {
    "colab": {
      "provenance": [],
      "mount_file_id": "11Sa0cAd29oqbIhHSSLnM3U_krd2xskNX",
      "authorship_tag": "ABX9TyOCQaPNdAIvbN5KR8yv8AFw",
      "include_colab_link": true
    },
    "kernelspec": {
      "name": "python3",
      "display_name": "Python 3"
    },
    "language_info": {
      "name": "python"
    }
  },
  "cells": [
    {
      "cell_type": "markdown",
      "metadata": {
        "id": "view-in-github",
        "colab_type": "text"
      },
      "source": [
        "<a href=\"https://colab.research.google.com/github/StefanTesmanovic/LSImprovement/blob/main/main.ipynb\" target=\"_parent\"><img src=\"https://colab.research.google.com/assets/colab-badge.svg\" alt=\"Open In Colab\"/></a>"
      ]
    },
    {
      "cell_type": "code",
      "source": [
        "def get_sentences_from_file(filename):\n",
        "    sentences = []\n",
        "\n",
        "    with open(filename, 'r') as file:\n",
        "        text = file.read()\n",
        "        sentences = text.split('.')\n",
        "        sentences = [sentence.strip() for sentence in sentences if sentence.strip() != '']\n",
        "\n",
        "    return sentences\n",
        "\n",
        "file_name = \"crnamacka.txt\"\n",
        "sentence_list = get_sentences_from_file(file_name)\n",
        "\n"
      ],
      "metadata": {
        "id": "0mg50OAkJOc2"
      },
      "execution_count": 42,
      "outputs": []
    },
    {
      "cell_type": "code",
      "execution_count": 52,
      "metadata": {
        "id": "wTbG0ojT23xU",
        "colab": {
          "base_uri": "https://localhost:8080/"
        },
        "outputId": "e8a6a7f4-735d-4de1-9765-41880a5569b0"
      },
      "outputs": [
        {
          "output_type": "stream",
          "name": "stdout",
          "text": [
            "[[0 0 0 ... 0 0 0]\n",
            " [0 0 0 ... 0 0 0]\n",
            " [0 0 0 ... 0 0 0]\n",
            " ...\n",
            " [0 0 0 ... 0 0 0]\n",
            " [0 0 0 ... 0 0 0]\n",
            " [0 0 0 ... 0 0 0]]\n",
            "(176, 1382)\n"
          ]
        },
        {
          "output_type": "execute_result",
          "data": {
            "text/plain": [
              "array(['164', '165', '166', ..., 'zrelo', 'zvala', 'zvonak'], dtype=object)"
            ]
          },
          "metadata": {},
          "execution_count": 52
        }
      ],
      "source": [
        "from sklearn.feature_extraction.text import CountVectorizer\n",
        "vectorizer = CountVectorizer()\n",
        "corpus = [\n",
        "     'This is the first document',\n",
        "     'This document is the second document.',\n",
        "     'And this is the third one',\n",
        "     'Is this the first document?',\n",
        " ]\n",
        "X = vectorizer.fit_transform(get_sentences_from_file(file_name))\n",
        "#X = vectorizer.fit_transform(corpus)\n",
        "print(X.toarray())\n",
        "vectorizer.get_feature_names_out()\n",
        "X = X.toarray()\n",
        "print(X.shape)\n",
        "vectorizer.get_feature_names_out()"
      ]
    },
    {
      "cell_type": "code",
      "source": [
        "import numpy as np\n",
        "U, S, Vt = np.linalg.svd(np.transpose(X))\n",
        "print(U.shape,\"\\n\")\n",
        "print(S,\"\\n\")\n",
        "print(Vt.shape)"
      ],
      "metadata": {
        "colab": {
          "base_uri": "https://localhost:8080/"
        },
        "id": "zuZ0uZXWB99u",
        "outputId": "9c14a0d8-90d2-4940-bcdc-922d6dafc6ab"
      },
      "execution_count": 56,
      "outputs": [
        {
          "output_type": "stream",
          "name": "stdout",
          "text": [
            "(1382, 1382) \n",
            "\n",
            "[25.21103804 12.68475965 10.92284696 10.742727    9.87783682  9.2873359\n",
            "  8.91533986  8.40487451  7.98432336  7.94076856  7.45604032  7.36340674\n",
            "  7.31846598  7.04420229  6.91154922  6.73619756  6.60432529  6.55794023\n",
            "  6.36635743  6.29376416  6.15309004  5.94921874  5.89406426  5.83789364\n",
            "  5.78090249  5.68717107  5.60484577  5.59444034  5.44691803  5.38484029\n",
            "  5.30287517  5.24682809  5.2158967   5.16776863  5.06735724  5.01429082\n",
            "  5.00241578  4.95730347  4.92249294  4.86349306  4.83615067  4.789975\n",
            "  4.73421438  4.68079713  4.64849138  4.59397491  4.54073692  4.52371302\n",
            "  4.44943892  4.41248637  4.39294647  4.37791437  4.33038388  4.27658725\n",
            "  4.23127985  4.22155863  4.19480493  4.16569757  4.13651758  4.09813605\n",
            "  4.08669415  4.03241963  4.0033878   3.95460652  3.93951734  3.92488572\n",
            "  3.88608914  3.8648017   3.84527768  3.81408773  3.79828531  3.7600025\n",
            "  3.71434679  3.70384051  3.6864001   3.66556424  3.64373173  3.59485431\n",
            "  3.57436255  3.53805963  3.50715944  3.49844171  3.47604201  3.47504199\n",
            "  3.4624437   3.43162798  3.3981964   3.37405176  3.36808188  3.36105047\n",
            "  3.3376537   3.31505903  3.3071084   3.27367827  3.26086259  3.24534106\n",
            "  3.22329852  3.18702325  3.16902806  3.12698081  3.11930528  3.10981612\n",
            "  3.1065044   3.07903012  3.06977415  3.0564941   3.0375453   3.01173791\n",
            "  2.98154768  2.9659225   2.94462772  2.91905863  2.90894733  2.90154562\n",
            "  2.88021925  2.86274523  2.86025636  2.82072164  2.81073772  2.78981121\n",
            "  2.76322427  2.74599875  2.7425044   2.72986428  2.69142285  2.68335119\n",
            "  2.65111477  2.62361104  2.59886836  2.55664624  2.55025357  2.53333401\n",
            "  2.51656383  2.50206713  2.48259425  2.47070962  2.44681374  2.42863144\n",
            "  2.4006715   2.3707764   2.36524087  2.33745292  2.29815942  2.29048684\n",
            "  2.27702091  2.25229194  2.23180835  2.22954175  2.21500502  2.18441793\n",
            "  2.17459203  2.14888536  2.13646266  2.12888486  2.08725893  2.07936803\n",
            "  2.05999882  2.05444313  2.02521773  2.01164742  1.98546521  1.93420837\n",
            "  1.89602413  1.87239765  1.8622671   1.82327604  1.80133447  1.79356393\n",
            "  1.60860268  1.54985889  1.49687137  1.48935795  1.40039139  1.37164561\n",
            "  1.2707042   0.83627308] \n",
            "\n",
            "(176, 176)\n"
          ]
        }
      ]
    }
  ]
}