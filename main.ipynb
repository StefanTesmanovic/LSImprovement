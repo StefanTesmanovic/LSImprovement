{
  "nbformat": 4,
  "nbformat_minor": 0,
  "metadata": {
    "colab": {
      "provenance": [],
      "mount_file_id": "11Sa0cAd29oqbIhHSSLnM3U_krd2xskNX",
      "authorship_tag": "ABX9TyMpJit74Hw7WNMAr1PMzvNA",
      "include_colab_link": true
    },
    "kernelspec": {
      "name": "python3",
      "display_name": "Python 3"
    },
    "language_info": {
      "name": "python"
    }
  },
  "cells": [
    {
      "cell_type": "markdown",
      "metadata": {
        "id": "view-in-github",
        "colab_type": "text"
      },
      "source": [
        "<a href=\"https://colab.research.google.com/github/StefanTesmanovic/LSImprovement/blob/main/main.ipynb\" target=\"_parent\"><img src=\"https://colab.research.google.com/assets/colab-badge.svg\" alt=\"Open In Colab\"/></a>"
      ]
    },
    {
      "cell_type": "code",
      "source": [
        "from sklearn.feature_extraction.text import CountVectorizer\n",
        "import numpy as np\n",
        "import re\n"
      ],
      "metadata": {
        "id": "KI5to9KZxMSO"
      },
      "execution_count": 2,
      "outputs": []
    },
    {
      "cell_type": "code",
      "source": [
        "def get_sentences_from_file(filename):\n",
        "    sentences = []\n",
        "\n",
        "    with open(filename, 'r') as file:\n",
        "        text = file.read()\n",
        "        pattern = r'\\. |\\.{3}|[!]+|[?]'\n",
        "        sentances = re.split(pattern, text)\n",
        "        print(sentances)\n",
        "        sentences = text.split('. ')\n",
        "        sentences = [sentence.strip() for sentence in sentences if sentence.strip() != '']\n",
        "    return sentences\n",
        "\n",
        "\n"
      ],
      "metadata": {
        "id": "0mg50OAkJOc2"
      },
      "execution_count": 55,
      "outputs": []
    },
    {
      "cell_type": "code",
      "source": [
        "def remove_zero_columns(X):\n",
        "    # Find indices of columns with all zeros\n",
        "    non_zero_columns = np.any(X != 0, axis=0)\n",
        "\n",
        "    # Create a new matrix without columns of all zeros\n",
        "    return X[:, non_zero_columns]\n"
      ],
      "metadata": {
        "id": "BS9Sk6Ll9_dD"
      },
      "execution_count": 21,
      "outputs": []
    },
    {
      "cell_type": "code",
      "source": [
        "def norm(X):\n",
        "    col_sums = np.sum(X, axis=0)\n",
        "    return X/col_sums"
      ],
      "metadata": {
        "id": "zvuPGSuVNYqn"
      },
      "execution_count": 26,
      "outputs": []
    },
    {
      "cell_type": "code",
      "source": [
        "def tfidf(X):\n",
        "    row_sums = np.sum(X, axis=1)\n",
        "    return np.transpose(np.transpose(X)/row_sums)"
      ],
      "metadata": {
        "id": "t97GrYaf4nMH"
      },
      "execution_count": 30,
      "outputs": []
    },
    {
      "cell_type": "code",
      "execution_count": 56,
      "metadata": {
        "id": "wTbG0ojT23xU",
        "colab": {
          "base_uri": "https://localhost:8080/"
        },
        "outputId": "d5067933-6765-420a-b66e-378c436c2751"
      },
      "outputs": [
        {
          "output_type": "stream",
          "name": "stdout",
          "text": [
            "['rec rec word word', 'jako d.t sta', ' snacgana zuri8', ' ljub8 te vray', '']\n",
            "[[0 1]\n",
            " [0 1]\n",
            " [2 0]\n",
            " [0 1]\n",
            " [0 1]\n",
            " [0 1]\n",
            " [0 1]\n",
            " [2 0]\n",
            " [0 1]]\n",
            "(9, 2)\n"
          ]
        },
        {
          "output_type": "execute_result",
          "data": {
            "text/plain": [
              "array(['jako', 'ljub8', 'rec', 'snacgana', 'sta', 'te', 'vray', 'word',\n",
              "       'zuri8'], dtype=object)"
            ]
          },
          "metadata": {},
          "execution_count": 56
        }
      ],
      "source": [
        "vectorizer = CountVectorizer()\n",
        "corpus = [\n",
        "     'This is the first document',\n",
        "     'This document is the second document.',\n",
        "     'And this is the third one',\n",
        "     'Is this the first document?',\n",
        " ]\n",
        "file_name = \"tekst.txt\"\n",
        "X = vectorizer.fit_transform(get_sentences_from_file(file_name))\n",
        "#X = vectorizer.fit_transform(corpus)\n",
        "X = X.toarray()\n",
        "X = np.transpose(X)\n",
        "print(X)\n",
        "X = remove_zero_columns(X)\n",
        "print(X.shape)\n",
        "vectorizer.get_feature_names_out()"
      ]
    },
    {
      "cell_type": "code",
      "source": [
        "X_norm = norm(X)\n",
        "X_tfidf = tfidf(X)\n",
        "U, S, Vt = np.linalg.svd(X)\n",
        "'''print(U.shape,\"\\n\")\n",
        "print(S.shape,\"\\n\")\n",
        "print(Vt.shape)'''"
      ],
      "metadata": {
        "colab": {
          "base_uri": "https://localhost:8080/",
          "height": 35
        },
        "id": "zuZ0uZXWB99u",
        "outputId": "7961d4ab-b73c-464e-eb8a-caa2de12cadd"
      },
      "execution_count": 39,
      "outputs": [
        {
          "output_type": "execute_result",
          "data": {
            "text/plain": [
              "'print(U.shape,\"\\n\")\\nprint(S.shape,\"\\n\")\\nprint(Vt.shape)'"
            ],
            "application/vnd.google.colaboratory.intrinsic+json": {
              "type": "string"
            }
          },
          "metadata": {},
          "execution_count": 39
        }
      ]
    },
    {
      "cell_type": "code",
      "source": [
        "def reduce(U, S, Vt, l):\n",
        "    sum = np.sum(S)\n",
        "    for i in range(int(len(S)/2), len(S)):\n",
        "      if(np.sum(S[:i])/sum >= l):#ulazi ako prvih i vrednosti zadovoljava nejdnakost\n",
        "        print(i)\n",
        "        return (np.delete(U,np.s_[i:],1), S[:i], np.delete(Vt, np.s_[i:], 0))\n",
        "        break\n",
        "\n"
      ],
      "metadata": {
        "id": "uoW3QRZ0HRG3"
      },
      "execution_count": 28,
      "outputs": []
    },
    {
      "cell_type": "code",
      "source": [
        "def WW(U, S):\n",
        "  return (U * S**2) @ np.transpose(U)"
      ],
      "metadata": {
        "id": "1y-9jNINj3MS"
      },
      "execution_count": 32,
      "outputs": []
    },
    {
      "cell_type": "code",
      "source": [
        "def SS(Vt, S):\n",
        "    return (np.transpose(Vt) * S**2) @ Vt"
      ],
      "metadata": {
        "id": "m0EV5JYjqHC6"
      },
      "execution_count": null,
      "outputs": []
    },
    {
      "cell_type": "code",
      "source": [
        "def depth(ss):\n",
        ""
      ],
      "metadata": {
        "id": "iAf6RR_wFcl4"
      },
      "execution_count": null,
      "outputs": []
    },
    {
      "cell_type": "code",
      "source": [
        "def LSI(U, S, Vt):\n",
        "    (U, S, Vt) = reduce(U, S, Vt, 0.975)\n",
        "    ww = WW(U, S)\n",
        "    ss = SS(Vt, S)\n",
        ""
      ],
      "metadata": {
        "id": "fEWmTYcqHLib"
      },
      "execution_count": 30,
      "outputs": []
    }
  ]
}