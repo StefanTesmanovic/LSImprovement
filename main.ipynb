{
  "nbformat": 4,
  "nbformat_minor": 0,
  "metadata": {
    "colab": {
      "provenance": [],
      "mount_file_id": "11Sa0cAd29oqbIhHSSLnM3U_krd2xskNX",
      "authorship_tag": "ABX9TyMb/BEETdkhVICmsDlUqZKj",
      "include_colab_link": true
    },
    "kernelspec": {
      "name": "python3",
      "display_name": "Python 3"
    },
    "language_info": {
      "name": "python"
    }
  },
  "cells": [
    {
      "cell_type": "markdown",
      "metadata": {
        "id": "view-in-github",
        "colab_type": "text"
      },
      "source": [
        "<a href=\"https://colab.research.google.com/github/StefanTesmanovic/LSImprovement/blob/main/main.ipynb\" target=\"_parent\"><img src=\"https://colab.research.google.com/assets/colab-badge.svg\" alt=\"Open In Colab\"/></a>"
      ]
    },
    {
      "cell_type": "code",
      "source": [
        "from sklearn.feature_extraction.text import TfidfVectorizer\n",
        "import numpy as np\n",
        "import re\n"
      ],
      "metadata": {
        "id": "KI5to9KZxMSO"
      },
      "execution_count": 2,
      "outputs": []
    },
    {
      "cell_type": "code",
      "source": [
        "def get_sentences_from_file(filename):\n",
        "    sentences = []\n",
        "\n",
        "    with open(filename, 'r') as file:\n",
        "        text = file.read()\n",
        "        pattern = r'\\.{3}\\n|\\.{3}|\\.\\n|\\. |[!] |[?] |[!]+\\n|[?]+\\n'\n",
        "        sentences = re.split(pattern, text)\n",
        "        #sentences = [senten for sentence in sentences]\n",
        "        print(sentences)\n",
        "        print(type(sentences))\n",
        "    return sentences\n"
      ],
      "metadata": {
        "id": "0mg50OAkJOc2"
      },
      "execution_count": 3,
      "outputs": []
    },
    {
      "cell_type": "code",
      "source": [
        "def tfidf(text):\n",
        "\n",
        "    terms = set([])\n",
        "\n",
        "\n",
        ""
      ],
      "metadata": {
        "id": "-w4HFO617uST"
      },
      "execution_count": null,
      "outputs": []
    },
    {
      "cell_type": "code",
      "source": [
        "def remove_zero_columns(X):\n",
        "    # Find indices of columns with all zeros\n",
        "    non_zero_columns = np.any(X != 0, axis=0)\n",
        "\n",
        "    # Create a new matrix without columns of all zeros\n",
        "    return X[:, non_zero_columns]\n"
      ],
      "metadata": {
        "id": "BS9Sk6Ll9_dD"
      },
      "execution_count": 4,
      "outputs": []
    },
    {
      "cell_type": "code",
      "source": [
        "def tf(X):\n",
        "    col_sums = np.sum(X, axis=0)\n",
        "    return X/col_sums"
      ],
      "metadata": {
        "id": "zvuPGSuVNYqn"
      },
      "execution_count": 4,
      "outputs": []
    },
    {
      "cell_type": "code",
      "source": [
        "def idf(X):\n",
        "    sent_count = X.shape[1]\n",
        "    return np.transpose(np.transpose(X)/row_sums)"
      ],
      "metadata": {
        "id": "t97GrYaf4nMH"
      },
      "execution_count": 5,
      "outputs": []
    },
    {
      "cell_type": "code",
      "execution_count": 6,
      "metadata": {
        "id": "wTbG0ojT23xU",
        "colab": {
          "base_uri": "https://localhost:8080/"
        },
        "outputId": "068dfdaf-d34a-4a03-fab7-d0dec90c0931"
      },
      "outputs": [
        {
          "output_type": "stream",
          "name": "stdout",
          "text": [
            "['Dobar dan', 'Zasto ovo ne radi', 'Jako je glupo', 'Od jednom je prestalo da radi, mrzim ga.']\n",
            "<class 'list'>\n",
            "['Dobar dan', 'Zasto ovo ne d.t radi', 'Jako je glupo', ' Od jednom je prestalo da radi, mrzim ga.']\n",
            "<class 'list'>\n",
            "[[0.         0.         0.         0.37156534]\n",
            " [0.70710678 0.         0.         0.        ]\n",
            " [0.70710678 0.         0.         0.        ]\n",
            " [0.         0.         0.         0.37156534]\n",
            " [0.         0.         0.61761437 0.        ]\n",
            " [0.         0.         0.61761437 0.        ]\n",
            " [0.         0.         0.48693426 0.29294639]\n",
            " [0.         0.         0.         0.37156534]\n",
            " [0.         0.         0.         0.37156534]\n",
            " [0.         0.52547275 0.         0.        ]\n",
            " [0.         0.         0.         0.37156534]\n",
            " [0.         0.52547275 0.         0.        ]\n",
            " [0.         0.         0.         0.37156534]\n",
            " [0.         0.41428875 0.         0.29294639]\n",
            " [0.         0.52547275 0.         0.        ]]\n",
            "(15, 4)\n"
          ]
        },
        {
          "output_type": "execute_result",
          "data": {
            "text/plain": [
              "array(['da', 'dan', 'dobar', 'ga', 'glupo', 'jako', 'je', 'jednom',\n",
              "       'mrzim', 'ne', 'od', 'ovo', 'prestalo', 'radi', 'zasto'],\n",
              "      dtype=object)"
            ]
          },
          "metadata": {},
          "execution_count": 6
        }
      ],
      "source": [
        "corpus = [\n",
        "     'Dobar dan',\n",
        "     'Zasto ovo ne radi',\n",
        "     'Jako je glupo',\n",
        "     'Od jednom je prestalo da radi, mrzim ga.'\n",
        "      ]\n",
        "print(corpus)\n",
        "print(type(corpus))\n",
        "vectorizer = TfidfVectorizer()\n",
        "file_name = \"tekst.txt\"\n",
        "X = vectorizer.fit_transform(corpus)\n",
        "X = vectorizer.fit_transform(get_sentences_from_file(file_name))\n",
        "X = X.toarray()\n",
        "X = np.transpose(X)\n",
        "print(X)\n",
        "X = remove_zero_columns(X)\n",
        "print(X.shape)\n",
        "vectorizer.get_feature_names_out()"
      ]
    },
    {
      "cell_type": "code",
      "source": [
        "import math\n",
        "from collections import Counter\n",
        "\n",
        "# Sample documents\n",
        "documents = [\n",
        "    \"This is the first document.\",\n",
        "    \"This document is the second document.\",\n",
        "    \"And this is the third one.\",\n",
        "    \"Is this the first document?\"\n",
        "]\n",
        "\n",
        "# Tokenize and count term frequencies\n",
        "tf_documents = [Counter(doc.lower().split()) for doc in documents]\n",
        "\n",
        "# Calculate total number of documents\n",
        "total_documents = len(documents)\n",
        "\n",
        "# Calculate document frequencies\n",
        "df = {}\n",
        "for tf_doc in tf_documents:\n",
        "    for term in tf_doc:\n",
        "        df[term] = df.get(term, 0) + 1\n",
        "\n",
        "# Calculate inverse document frequencies\n",
        "idf = {term: math.log(total_documents / df[term]) for term in df}\n",
        "\n",
        "# Calculate TF-IDF values\n",
        "tfidf_documents = []\n",
        "for tf_doc in tf_documents:\n",
        "    tfidf_doc = {term: tf * idf[term] for term, tf in tf_doc.items()}\n",
        "    tfidf_documents.append(tfidf_doc)\n",
        "\n",
        "# Print TF-IDF values for each document\n",
        "for idx, tfidf_doc in enumerate(tfidf_documents):\n",
        "    print(f\"TF-IDF values for Document {idx + 1}:\")\n",
        "    for term, tfidf in tfidf_doc.items():\n",
        "        print(f\"{term}: {tfidf}\")\n",
        "    print()\n"
      ],
      "metadata": {
        "id": "jDWnY-K-5JwM"
      },
      "execution_count": null,
      "outputs": []
    },
    {
      "cell_type": "code",
      "source": [
        "X_norm = norm(X)\n",
        "X_tfidf = tfidf(X)\n",
        "U, S, Vt = np.linalg.svd(X)\n",
        "'''print(U.shape,\"\\n\")\n",
        "print(S.shape,\"\\n\")\n",
        "print(Vt.shape)'''"
      ],
      "metadata": {
        "colab": {
          "base_uri": "https://localhost:8080/",
          "height": 35
        },
        "id": "zuZ0uZXWB99u",
        "outputId": "7961d4ab-b73c-464e-eb8a-caa2de12cadd"
      },
      "execution_count": 39,
      "outputs": [
        {
          "output_type": "execute_result",
          "data": {
            "text/plain": [
              "'print(U.shape,\"\\n\")\\nprint(S.shape,\"\\n\")\\nprint(Vt.shape)'"
            ],
            "application/vnd.google.colaboratory.intrinsic+json": {
              "type": "string"
            }
          },
          "metadata": {},
          "execution_count": 39
        }
      ]
    },
    {
      "cell_type": "code",
      "source": [
        "def reduce(U, S, Vt, l):\n",
        "    sum = np.sum(S)\n",
        "    for i in range(int(len(S)/2), len(S)):\n",
        "      if(np.sum(S[:i])/sum >= l):#ulazi ako prvih i vrednosti zadovoljava nejdnakost\n",
        "        print(i)\n",
        "        return (np.delete(U,np.s_[i:],1), S[:i], np.delete(Vt, np.s_[i:], 0))\n",
        "        break\n",
        "\n"
      ],
      "metadata": {
        "id": "uoW3QRZ0HRG3"
      },
      "execution_count": 28,
      "outputs": []
    },
    {
      "cell_type": "code",
      "source": [
        "def WW(U, S):\n",
        "  return (U * S**2) @ np.transpose(U)"
      ],
      "metadata": {
        "id": "1y-9jNINj3MS"
      },
      "execution_count": 32,
      "outputs": []
    },
    {
      "cell_type": "code",
      "source": [
        "def SS(Vt, S):\n",
        "    return (np.transpose(Vt) * S**2) @ Vt"
      ],
      "metadata": {
        "id": "m0EV5JYjqHC6"
      },
      "execution_count": null,
      "outputs": []
    },
    {
      "cell_type": "code",
      "source": [
        "def depth(ss):\n",
        ""
      ],
      "metadata": {
        "id": "iAf6RR_wFcl4"
      },
      "execution_count": null,
      "outputs": []
    },
    {
      "cell_type": "code",
      "source": [
        "def LSI(U, S, Vt):\n",
        "    (U, S, Vt) = reduce(U, S, Vt, 0.975)\n",
        "    ww = WW(U, S)\n",
        "    ss = SS(Vt, S)\n",
        ""
      ],
      "metadata": {
        "id": "fEWmTYcqHLib"
      },
      "execution_count": 30,
      "outputs": []
    }
  ]
}